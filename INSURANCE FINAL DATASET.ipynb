{
 "cells": [
  {
   "cell_type": "markdown",
   "id": "dfadccfe",
   "metadata": {},
   "source": [
    "# IMPORTING NECESSARY LIBRARIES"
   ]
  },
  {
   "cell_type": "code",
   "execution_count": 1,
   "id": "5cac19fe",
   "metadata": {},
   "outputs": [],
   "source": [
    "import pandas as pd\n",
    "import numpy as np\n",
    "from sklearn.model_selection import train_test_split\n",
    "from sklearn.model_selection import GridSearchCV\n",
    "from sklearn.metrics import accuracy_score, confusion_matrix, classification_report, roc_curve, roc_auc_score\n",
    "import matplotlib.pyplot as plt\n",
    "import seaborn as sns\n",
    "\n",
    "import warnings\n",
    "warnings.filterwarnings('ignore')"
   ]
  },
  {
   "cell_type": "code",
   "execution_count": 2,
   "id": "d4483fd9",
   "metadata": {},
   "outputs": [
    {
     "data": {
      "text/html": [
       "<div>\n",
       "<style scoped>\n",
       "    .dataframe tbody tr th:only-of-type {\n",
       "        vertical-align: middle;\n",
       "    }\n",
       "\n",
       "    .dataframe tbody tr th {\n",
       "        vertical-align: top;\n",
       "    }\n",
       "\n",
       "    .dataframe thead th {\n",
       "        text-align: right;\n",
       "    }\n",
       "</style>\n",
       "<table border=\"1\" class=\"dataframe\">\n",
       "  <thead>\n",
       "    <tr style=\"text-align: right;\">\n",
       "      <th></th>\n",
       "      <th>age</th>\n",
       "      <th>sex</th>\n",
       "      <th>bmi</th>\n",
       "      <th>children</th>\n",
       "      <th>smoker</th>\n",
       "      <th>region</th>\n",
       "      <th>charges</th>\n",
       "    </tr>\n",
       "  </thead>\n",
       "  <tbody>\n",
       "    <tr>\n",
       "      <th>0</th>\n",
       "      <td>19</td>\n",
       "      <td>female</td>\n",
       "      <td>27.900</td>\n",
       "      <td>0</td>\n",
       "      <td>yes</td>\n",
       "      <td>southwest</td>\n",
       "      <td>16884.92400</td>\n",
       "    </tr>\n",
       "    <tr>\n",
       "      <th>1</th>\n",
       "      <td>18</td>\n",
       "      <td>male</td>\n",
       "      <td>33.770</td>\n",
       "      <td>1</td>\n",
       "      <td>no</td>\n",
       "      <td>southeast</td>\n",
       "      <td>1725.55230</td>\n",
       "    </tr>\n",
       "    <tr>\n",
       "      <th>2</th>\n",
       "      <td>28</td>\n",
       "      <td>male</td>\n",
       "      <td>33.000</td>\n",
       "      <td>3</td>\n",
       "      <td>no</td>\n",
       "      <td>southeast</td>\n",
       "      <td>4449.46200</td>\n",
       "    </tr>\n",
       "    <tr>\n",
       "      <th>3</th>\n",
       "      <td>33</td>\n",
       "      <td>male</td>\n",
       "      <td>22.705</td>\n",
       "      <td>0</td>\n",
       "      <td>no</td>\n",
       "      <td>northwest</td>\n",
       "      <td>21984.47061</td>\n",
       "    </tr>\n",
       "    <tr>\n",
       "      <th>4</th>\n",
       "      <td>32</td>\n",
       "      <td>male</td>\n",
       "      <td>28.880</td>\n",
       "      <td>0</td>\n",
       "      <td>no</td>\n",
       "      <td>northwest</td>\n",
       "      <td>3866.85520</td>\n",
       "    </tr>\n",
       "  </tbody>\n",
       "</table>\n",
       "</div>"
      ],
      "text/plain": [
       "   age     sex     bmi  children smoker     region      charges\n",
       "0   19  female  27.900         0    yes  southwest  16884.92400\n",
       "1   18    male  33.770         1     no  southeast   1725.55230\n",
       "2   28    male  33.000         3     no  southeast   4449.46200\n",
       "3   33    male  22.705         0     no  northwest  21984.47061\n",
       "4   32    male  28.880         0     no  northwest   3866.85520"
      ]
     },
     "execution_count": 2,
     "metadata": {},
     "output_type": "execute_result"
    }
   ],
   "source": [
    "#Loading the dataset\n",
    "data = pd.read_csv(\"Medical_Cost.csv\")\n",
    "data.head()"
   ]
  },
  {
   "cell_type": "code",
   "execution_count": 3,
   "id": "cdd4b7ad",
   "metadata": {},
   "outputs": [
    {
     "data": {
      "text/plain": [
       "(1338, 7)"
      ]
     },
     "execution_count": 3,
     "metadata": {},
     "output_type": "execute_result"
    }
   ],
   "source": [
    "data.shape"
   ]
  },
  {
   "cell_type": "code",
   "execution_count": 4,
   "id": "f3268596",
   "metadata": {},
   "outputs": [
    {
     "data": {
      "text/plain": [
       "age         0\n",
       "sex         0\n",
       "bmi         0\n",
       "children    0\n",
       "smoker      0\n",
       "region      0\n",
       "charges     0\n",
       "dtype: int64"
      ]
     },
     "execution_count": 4,
     "metadata": {},
     "output_type": "execute_result"
    }
   ],
   "source": [
    "data.isna().sum()"
   ]
  },
  {
   "cell_type": "code",
   "execution_count": 5,
   "id": "d68a6fb4",
   "metadata": {},
   "outputs": [
    {
     "name": "stdout",
     "output_type": "stream",
     "text": [
      "<class 'pandas.core.frame.DataFrame'>\n",
      "RangeIndex: 1338 entries, 0 to 1337\n",
      "Data columns (total 7 columns):\n",
      " #   Column    Non-Null Count  Dtype  \n",
      "---  ------    --------------  -----  \n",
      " 0   age       1338 non-null   int64  \n",
      " 1   sex       1338 non-null   object \n",
      " 2   bmi       1338 non-null   float64\n",
      " 3   children  1338 non-null   int64  \n",
      " 4   smoker    1338 non-null   object \n",
      " 5   region    1338 non-null   object \n",
      " 6   charges   1338 non-null   float64\n",
      "dtypes: float64(2), int64(2), object(3)\n",
      "memory usage: 73.3+ KB\n"
     ]
    }
   ],
   "source": [
    "data.info()"
   ]
  },
  {
   "cell_type": "code",
   "execution_count": 6,
   "id": "0aa4d1cb",
   "metadata": {},
   "outputs": [
    {
     "data": {
      "text/plain": [
       "Index(['age', 'sex', 'bmi', 'children', 'smoker', 'region', 'charges'], dtype='object')"
      ]
     },
     "execution_count": 6,
     "metadata": {},
     "output_type": "execute_result"
    }
   ],
   "source": [
    "data.columns"
   ]
  },
  {
   "cell_type": "code",
   "execution_count": 7,
   "id": "c5493cb1",
   "metadata": {},
   "outputs": [],
   "source": [
    "# Now convert the integer part to numerical as our machine learing model only deal with numerical values\n",
    "data['sex'] = data['sex'].map({'male':1, 'female':0})\n",
    "data['smoker'] = data['smoker'].map({'yes':1, 'no':0})\n",
    "data['region'] = data['region'].map({'southwest':1, 'southeast':2, 'northwest':3, 'northeast':4})"
   ]
  },
  {
   "cell_type": "code",
   "execution_count": 8,
   "id": "d4b65045",
   "metadata": {},
   "outputs": [
    {
     "data": {
      "text/html": [
       "<div>\n",
       "<style scoped>\n",
       "    .dataframe tbody tr th:only-of-type {\n",
       "        vertical-align: middle;\n",
       "    }\n",
       "\n",
       "    .dataframe tbody tr th {\n",
       "        vertical-align: top;\n",
       "    }\n",
       "\n",
       "    .dataframe thead th {\n",
       "        text-align: right;\n",
       "    }\n",
       "</style>\n",
       "<table border=\"1\" class=\"dataframe\">\n",
       "  <thead>\n",
       "    <tr style=\"text-align: right;\">\n",
       "      <th></th>\n",
       "      <th>age</th>\n",
       "      <th>sex</th>\n",
       "      <th>bmi</th>\n",
       "      <th>children</th>\n",
       "      <th>smoker</th>\n",
       "      <th>region</th>\n",
       "      <th>charges</th>\n",
       "    </tr>\n",
       "  </thead>\n",
       "  <tbody>\n",
       "    <tr>\n",
       "      <th>0</th>\n",
       "      <td>19</td>\n",
       "      <td>0</td>\n",
       "      <td>27.900</td>\n",
       "      <td>0</td>\n",
       "      <td>1</td>\n",
       "      <td>1</td>\n",
       "      <td>16884.92400</td>\n",
       "    </tr>\n",
       "    <tr>\n",
       "      <th>1</th>\n",
       "      <td>18</td>\n",
       "      <td>1</td>\n",
       "      <td>33.770</td>\n",
       "      <td>1</td>\n",
       "      <td>0</td>\n",
       "      <td>2</td>\n",
       "      <td>1725.55230</td>\n",
       "    </tr>\n",
       "    <tr>\n",
       "      <th>2</th>\n",
       "      <td>28</td>\n",
       "      <td>1</td>\n",
       "      <td>33.000</td>\n",
       "      <td>3</td>\n",
       "      <td>0</td>\n",
       "      <td>2</td>\n",
       "      <td>4449.46200</td>\n",
       "    </tr>\n",
       "    <tr>\n",
       "      <th>3</th>\n",
       "      <td>33</td>\n",
       "      <td>1</td>\n",
       "      <td>22.705</td>\n",
       "      <td>0</td>\n",
       "      <td>0</td>\n",
       "      <td>3</td>\n",
       "      <td>21984.47061</td>\n",
       "    </tr>\n",
       "    <tr>\n",
       "      <th>4</th>\n",
       "      <td>32</td>\n",
       "      <td>1</td>\n",
       "      <td>28.880</td>\n",
       "      <td>0</td>\n",
       "      <td>0</td>\n",
       "      <td>3</td>\n",
       "      <td>3866.85520</td>\n",
       "    </tr>\n",
       "    <tr>\n",
       "      <th>...</th>\n",
       "      <td>...</td>\n",
       "      <td>...</td>\n",
       "      <td>...</td>\n",
       "      <td>...</td>\n",
       "      <td>...</td>\n",
       "      <td>...</td>\n",
       "      <td>...</td>\n",
       "    </tr>\n",
       "    <tr>\n",
       "      <th>1333</th>\n",
       "      <td>50</td>\n",
       "      <td>1</td>\n",
       "      <td>30.970</td>\n",
       "      <td>3</td>\n",
       "      <td>0</td>\n",
       "      <td>3</td>\n",
       "      <td>10600.54830</td>\n",
       "    </tr>\n",
       "    <tr>\n",
       "      <th>1334</th>\n",
       "      <td>18</td>\n",
       "      <td>0</td>\n",
       "      <td>31.920</td>\n",
       "      <td>0</td>\n",
       "      <td>0</td>\n",
       "      <td>4</td>\n",
       "      <td>2205.98080</td>\n",
       "    </tr>\n",
       "    <tr>\n",
       "      <th>1335</th>\n",
       "      <td>18</td>\n",
       "      <td>0</td>\n",
       "      <td>36.850</td>\n",
       "      <td>0</td>\n",
       "      <td>0</td>\n",
       "      <td>2</td>\n",
       "      <td>1629.83350</td>\n",
       "    </tr>\n",
       "    <tr>\n",
       "      <th>1336</th>\n",
       "      <td>21</td>\n",
       "      <td>0</td>\n",
       "      <td>25.800</td>\n",
       "      <td>0</td>\n",
       "      <td>0</td>\n",
       "      <td>1</td>\n",
       "      <td>2007.94500</td>\n",
       "    </tr>\n",
       "    <tr>\n",
       "      <th>1337</th>\n",
       "      <td>61</td>\n",
       "      <td>0</td>\n",
       "      <td>29.070</td>\n",
       "      <td>0</td>\n",
       "      <td>1</td>\n",
       "      <td>3</td>\n",
       "      <td>29141.36030</td>\n",
       "    </tr>\n",
       "  </tbody>\n",
       "</table>\n",
       "<p>1338 rows × 7 columns</p>\n",
       "</div>"
      ],
      "text/plain": [
       "      age  sex     bmi  children  smoker  region      charges\n",
       "0      19    0  27.900         0       1       1  16884.92400\n",
       "1      18    1  33.770         1       0       2   1725.55230\n",
       "2      28    1  33.000         3       0       2   4449.46200\n",
       "3      33    1  22.705         0       0       3  21984.47061\n",
       "4      32    1  28.880         0       0       3   3866.85520\n",
       "...   ...  ...     ...       ...     ...     ...          ...\n",
       "1333   50    1  30.970         3       0       3  10600.54830\n",
       "1334   18    0  31.920         0       0       4   2205.98080\n",
       "1335   18    0  36.850         0       0       2   1629.83350\n",
       "1336   21    0  25.800         0       0       1   2007.94500\n",
       "1337   61    0  29.070         0       1       3  29141.36030\n",
       "\n",
       "[1338 rows x 7 columns]"
      ]
     },
     "execution_count": 8,
     "metadata": {},
     "output_type": "execute_result"
    }
   ],
   "source": [
    "data"
   ]
  },
  {
   "cell_type": "code",
   "execution_count": 9,
   "id": "04ce813f",
   "metadata": {},
   "outputs": [
    {
     "data": {
      "text/html": [
       "<div>\n",
       "<style scoped>\n",
       "    .dataframe tbody tr th:only-of-type {\n",
       "        vertical-align: middle;\n",
       "    }\n",
       "\n",
       "    .dataframe tbody tr th {\n",
       "        vertical-align: top;\n",
       "    }\n",
       "\n",
       "    .dataframe thead th {\n",
       "        text-align: right;\n",
       "    }\n",
       "</style>\n",
       "<table border=\"1\" class=\"dataframe\">\n",
       "  <thead>\n",
       "    <tr style=\"text-align: right;\">\n",
       "      <th></th>\n",
       "      <th>age</th>\n",
       "      <th>sex</th>\n",
       "      <th>bmi</th>\n",
       "      <th>children</th>\n",
       "      <th>smoker</th>\n",
       "      <th>region</th>\n",
       "      <th>charges</th>\n",
       "    </tr>\n",
       "  </thead>\n",
       "  <tbody>\n",
       "    <tr>\n",
       "      <th>count</th>\n",
       "      <td>1338.000000</td>\n",
       "      <td>1338.000000</td>\n",
       "      <td>1338.000000</td>\n",
       "      <td>1338.000000</td>\n",
       "      <td>1338.000000</td>\n",
       "      <td>1338.000000</td>\n",
       "      <td>1338.000000</td>\n",
       "    </tr>\n",
       "    <tr>\n",
       "      <th>mean</th>\n",
       "      <td>39.207025</td>\n",
       "      <td>0.505232</td>\n",
       "      <td>30.663397</td>\n",
       "      <td>1.094918</td>\n",
       "      <td>0.204783</td>\n",
       "      <td>2.484305</td>\n",
       "      <td>13270.422265</td>\n",
       "    </tr>\n",
       "    <tr>\n",
       "      <th>std</th>\n",
       "      <td>14.049960</td>\n",
       "      <td>0.500160</td>\n",
       "      <td>6.098187</td>\n",
       "      <td>1.205493</td>\n",
       "      <td>0.403694</td>\n",
       "      <td>1.104885</td>\n",
       "      <td>12110.011237</td>\n",
       "    </tr>\n",
       "    <tr>\n",
       "      <th>min</th>\n",
       "      <td>18.000000</td>\n",
       "      <td>0.000000</td>\n",
       "      <td>15.960000</td>\n",
       "      <td>0.000000</td>\n",
       "      <td>0.000000</td>\n",
       "      <td>1.000000</td>\n",
       "      <td>1121.873900</td>\n",
       "    </tr>\n",
       "    <tr>\n",
       "      <th>25%</th>\n",
       "      <td>27.000000</td>\n",
       "      <td>0.000000</td>\n",
       "      <td>26.296250</td>\n",
       "      <td>0.000000</td>\n",
       "      <td>0.000000</td>\n",
       "      <td>2.000000</td>\n",
       "      <td>4740.287150</td>\n",
       "    </tr>\n",
       "    <tr>\n",
       "      <th>50%</th>\n",
       "      <td>39.000000</td>\n",
       "      <td>1.000000</td>\n",
       "      <td>30.400000</td>\n",
       "      <td>1.000000</td>\n",
       "      <td>0.000000</td>\n",
       "      <td>2.000000</td>\n",
       "      <td>9382.033000</td>\n",
       "    </tr>\n",
       "    <tr>\n",
       "      <th>75%</th>\n",
       "      <td>51.000000</td>\n",
       "      <td>1.000000</td>\n",
       "      <td>34.693750</td>\n",
       "      <td>2.000000</td>\n",
       "      <td>0.000000</td>\n",
       "      <td>3.000000</td>\n",
       "      <td>16639.912515</td>\n",
       "    </tr>\n",
       "    <tr>\n",
       "      <th>max</th>\n",
       "      <td>64.000000</td>\n",
       "      <td>1.000000</td>\n",
       "      <td>53.130000</td>\n",
       "      <td>5.000000</td>\n",
       "      <td>1.000000</td>\n",
       "      <td>4.000000</td>\n",
       "      <td>63770.428010</td>\n",
       "    </tr>\n",
       "  </tbody>\n",
       "</table>\n",
       "</div>"
      ],
      "text/plain": [
       "               age          sex          bmi     children       smoker  \\\n",
       "count  1338.000000  1338.000000  1338.000000  1338.000000  1338.000000   \n",
       "mean     39.207025     0.505232    30.663397     1.094918     0.204783   \n",
       "std      14.049960     0.500160     6.098187     1.205493     0.403694   \n",
       "min      18.000000     0.000000    15.960000     0.000000     0.000000   \n",
       "25%      27.000000     0.000000    26.296250     0.000000     0.000000   \n",
       "50%      39.000000     1.000000    30.400000     1.000000     0.000000   \n",
       "75%      51.000000     1.000000    34.693750     2.000000     0.000000   \n",
       "max      64.000000     1.000000    53.130000     5.000000     1.000000   \n",
       "\n",
       "            region       charges  \n",
       "count  1338.000000   1338.000000  \n",
       "mean      2.484305  13270.422265  \n",
       "std       1.104885  12110.011237  \n",
       "min       1.000000   1121.873900  \n",
       "25%       2.000000   4740.287150  \n",
       "50%       2.000000   9382.033000  \n",
       "75%       3.000000  16639.912515  \n",
       "max       4.000000  63770.428010  "
      ]
     },
     "execution_count": 9,
     "metadata": {},
     "output_type": "execute_result"
    }
   ],
   "source": [
    "data.describe()"
   ]
  },
  {
   "cell_type": "code",
   "execution_count": 10,
   "id": "0287faf1",
   "metadata": {},
   "outputs": [],
   "source": [
    "data_correlation = data.corr()"
   ]
  },
  {
   "cell_type": "code",
   "execution_count": 11,
   "id": "549623cb",
   "metadata": {},
   "outputs": [
    {
     "data": {
      "text/html": [
       "<div>\n",
       "<style scoped>\n",
       "    .dataframe tbody tr th:only-of-type {\n",
       "        vertical-align: middle;\n",
       "    }\n",
       "\n",
       "    .dataframe tbody tr th {\n",
       "        vertical-align: top;\n",
       "    }\n",
       "\n",
       "    .dataframe thead th {\n",
       "        text-align: right;\n",
       "    }\n",
       "</style>\n",
       "<table border=\"1\" class=\"dataframe\">\n",
       "  <thead>\n",
       "    <tr style=\"text-align: right;\">\n",
       "      <th></th>\n",
       "      <th>age</th>\n",
       "      <th>sex</th>\n",
       "      <th>bmi</th>\n",
       "      <th>children</th>\n",
       "      <th>smoker</th>\n",
       "      <th>region</th>\n",
       "      <th>charges</th>\n",
       "    </tr>\n",
       "  </thead>\n",
       "  <tbody>\n",
       "    <tr>\n",
       "      <th>age</th>\n",
       "      <td>1.000000</td>\n",
       "      <td>-0.020856</td>\n",
       "      <td>0.109272</td>\n",
       "      <td>0.042469</td>\n",
       "      <td>-0.025019</td>\n",
       "      <td>-0.002127</td>\n",
       "      <td>0.299008</td>\n",
       "    </tr>\n",
       "    <tr>\n",
       "      <th>sex</th>\n",
       "      <td>-0.020856</td>\n",
       "      <td>1.000000</td>\n",
       "      <td>0.046371</td>\n",
       "      <td>0.017163</td>\n",
       "      <td>0.076185</td>\n",
       "      <td>-0.004588</td>\n",
       "      <td>0.057292</td>\n",
       "    </tr>\n",
       "    <tr>\n",
       "      <th>bmi</th>\n",
       "      <td>0.109272</td>\n",
       "      <td>0.046371</td>\n",
       "      <td>1.000000</td>\n",
       "      <td>0.012759</td>\n",
       "      <td>0.003750</td>\n",
       "      <td>-0.157566</td>\n",
       "      <td>0.198341</td>\n",
       "    </tr>\n",
       "    <tr>\n",
       "      <th>children</th>\n",
       "      <td>0.042469</td>\n",
       "      <td>0.017163</td>\n",
       "      <td>0.012759</td>\n",
       "      <td>1.000000</td>\n",
       "      <td>0.007673</td>\n",
       "      <td>-0.016569</td>\n",
       "      <td>0.067998</td>\n",
       "    </tr>\n",
       "    <tr>\n",
       "      <th>smoker</th>\n",
       "      <td>-0.025019</td>\n",
       "      <td>0.076185</td>\n",
       "      <td>0.003750</td>\n",
       "      <td>0.007673</td>\n",
       "      <td>1.000000</td>\n",
       "      <td>0.002181</td>\n",
       "      <td>0.787251</td>\n",
       "    </tr>\n",
       "    <tr>\n",
       "      <th>region</th>\n",
       "      <td>-0.002127</td>\n",
       "      <td>-0.004588</td>\n",
       "      <td>-0.157566</td>\n",
       "      <td>-0.016569</td>\n",
       "      <td>0.002181</td>\n",
       "      <td>1.000000</td>\n",
       "      <td>0.006208</td>\n",
       "    </tr>\n",
       "    <tr>\n",
       "      <th>charges</th>\n",
       "      <td>0.299008</td>\n",
       "      <td>0.057292</td>\n",
       "      <td>0.198341</td>\n",
       "      <td>0.067998</td>\n",
       "      <td>0.787251</td>\n",
       "      <td>0.006208</td>\n",
       "      <td>1.000000</td>\n",
       "    </tr>\n",
       "  </tbody>\n",
       "</table>\n",
       "</div>"
      ],
      "text/plain": [
       "               age       sex       bmi  children    smoker    region   charges\n",
       "age       1.000000 -0.020856  0.109272  0.042469 -0.025019 -0.002127  0.299008\n",
       "sex      -0.020856  1.000000  0.046371  0.017163  0.076185 -0.004588  0.057292\n",
       "bmi       0.109272  0.046371  1.000000  0.012759  0.003750 -0.157566  0.198341\n",
       "children  0.042469  0.017163  0.012759  1.000000  0.007673 -0.016569  0.067998\n",
       "smoker   -0.025019  0.076185  0.003750  0.007673  1.000000  0.002181  0.787251\n",
       "region   -0.002127 -0.004588 -0.157566 -0.016569  0.002181  1.000000  0.006208\n",
       "charges   0.299008  0.057292  0.198341  0.067998  0.787251  0.006208  1.000000"
      ]
     },
     "execution_count": 11,
     "metadata": {},
     "output_type": "execute_result"
    }
   ],
   "source": [
    "data_correlation"
   ]
  },
  {
   "cell_type": "code",
   "execution_count": 12,
   "id": "7a9fa4f8",
   "metadata": {},
   "outputs": [
    {
     "data": {
      "text/plain": [
       "<AxesSubplot:>"
      ]
     },
     "execution_count": 12,
     "metadata": {},
     "output_type": "execute_result"
    },
    {
     "data": {
      "image/png": "[encoded data removed]",
      "text/plain": [
       "<Figure size 1440x720 with 2 Axes>"
      ]
     },
     "metadata": {
      "needs_background": "light"
     },
     "output_type": "display_data"
    }
   ],
   "source": [
    "plt.figure(figsize = (20, 10))\n",
    "sns.heatmap(data = data_correlation, annot = True, linewidth = 0.20, linecolor = 'black')"
   ]
  },
  {
   "cell_type": "code",
   "execution_count": 13,
   "id": "2a5bf000",
   "metadata": {},
   "outputs": [
    {
     "data": {
      "image/png": "[encoded data removed]",
      "text/plain": [
       "<Figure size 432x288 with 1 Axes>"
      ]
     },
     "metadata": {
      "needs_background": "light"
     },
     "output_type": "display_data"
    }
   ],
   "source": [
    "# it seems like smoker and charges are little correlated lets check with scatter plot\n",
    "\n",
    "plt.scatter(data.smoker, data.charges)\n",
    "plt.xlabel('smoker')\n",
    "plt.ylabel('charge')\n",
    "plt.title('smoker vs charge')\n",
    "plt.show()"
   ]
  },
  {
   "cell_type": "code",
   "execution_count": 14,
   "id": "8b14a03f",
   "metadata": {},
   "outputs": [
    {
     "data": {
      "text/plain": [
       "<AxesSubplot:xlabel='sex', ylabel='count'>"
      ]
     },
     "execution_count": 14,
     "metadata": {},
     "output_type": "execute_result"
    },
    {
     "data": {
      "image/png": "[encoded data removed]",
      "text/plain": [
       "<Figure size 432x288 with 1 Axes>"
      ]
     },
     "metadata": {
      "needs_background": "light"
     },
     "output_type": "display_data"
    }
   ],
   "source": [
    "sns.countplot(data['sex'])"
   ]
  },
  {
   "cell_type": "code",
   "execution_count": 15,
   "id": "53dccdd7",
   "metadata": {},
   "outputs": [
    {
     "data": {
      "text/plain": [
       "1    676\n",
       "0    662\n",
       "Name: sex, dtype: int64"
      ]
     },
     "execution_count": 15,
     "metadata": {},
     "output_type": "execute_result"
    }
   ],
   "source": [
    "data['sex'].value_counts()"
   ]
  },
  {
   "cell_type": "code",
   "execution_count": 16,
   "id": "2ac51c97",
   "metadata": {},
   "outputs": [
    {
     "data": {
      "text/plain": [
       "<AxesSubplot:xlabel='children', ylabel='count'>"
      ]
     },
     "execution_count": 16,
     "metadata": {},
     "output_type": "execute_result"
    },
    {
     "data": {
      "image/png": "[encoded data removed]",
      "text/plain": [
       "<Figure size 432x288 with 1 Axes>"
      ]
     },
     "metadata": {
      "needs_background": "light"
     },
     "output_type": "display_data"
    }
   ],
   "source": [
    "sns.countplot(data['children'])"
   ]
  },
  {
   "cell_type": "code",
   "execution_count": 17,
   "id": "3187257a",
   "metadata": {
    "scrolled": true
   },
   "outputs": [
    {
     "data": {
      "text/plain": [
       "0    574\n",
       "1    324\n",
       "2    240\n",
       "3    157\n",
       "4     25\n",
       "5     18\n",
       "Name: children, dtype: int64"
      ]
     },
     "execution_count": 17,
     "metadata": {},
     "output_type": "execute_result"
    }
   ],
   "source": [
    "data['children'].value_counts()"
   ]
  },
  {
   "cell_type": "code",
   "execution_count": 18,
   "id": "adc37874",
   "metadata": {},
   "outputs": [
    {
     "data": {
      "text/plain": [
       "<AxesSubplot:xlabel='smoker', ylabel='count'>"
      ]
     },
     "execution_count": 18,
     "metadata": {},
     "output_type": "execute_result"
    },
    {
     "data": {
      "image/png": "[encoded data removed]",
      "text/plain": [
       "<Figure size 432x288 with 1 Axes>"
      ]
     },
     "metadata": {
      "needs_background": "light"
     },
     "output_type": "display_data"
    }
   ],
   "source": [
    "sns.countplot(data['smoker'])"
   ]
  },
  {
   "cell_type": "code",
   "execution_count": 19,
   "id": "f993ffc7",
   "metadata": {},
   "outputs": [
    {
     "data": {
      "text/plain": [
       "0    1064\n",
       "1     274\n",
       "Name: smoker, dtype: int64"
      ]
     },
     "execution_count": 19,
     "metadata": {},
     "output_type": "execute_result"
    }
   ],
   "source": [
    "data['smoker'].value_counts()"
   ]
  },
  {
   "cell_type": "code",
   "execution_count": 20,
   "id": "db11c98f",
   "metadata": {},
   "outputs": [
    {
     "name": "stdout",
     "output_type": "stream",
     "text": [
      "2    364\n",
      "1    325\n",
      "3    325\n",
      "4    324\n",
      "Name: region, dtype: int64\n"
     ]
    },
    {
     "data": {
      "image/png": "[encoded data removed]",
      "text/plain": [
       "<Figure size 432x288 with 1 Axes>"
      ]
     },
     "metadata": {
      "needs_background": "light"
     },
     "output_type": "display_data"
    }
   ],
   "source": [
    "sns.countplot(data['region']) \n",
    "print(data['region'].value_counts())"
   ]
  },
  {
   "cell_type": "code",
   "execution_count": 21,
   "id": "2f179af2",
   "metadata": {},
   "outputs": [
    {
     "data": {
      "text/plain": [
       "Text(0.5, 1.0, ' BMI distribution plot')"
      ]
     },
     "execution_count": 21,
     "metadata": {},
     "output_type": "execute_result"
    },
    {
     "data": {
      "image/png": "[encoded data removed]",
      "text/plain": [
       "<Figure size 720x720 with 1 Axes>"
      ]
     },
     "metadata": {},
     "output_type": "display_data"
    }
   ],
   "source": [
    "#Normal distribution plot for BMI and age\n",
    "sns.set\n",
    "plt.figure(figsize = (10,10), facecolor = 'yellow')\n",
    "sns.distplot(data['bmi']) \n",
    "plt.title(' BMI distribution plot')"
   ]
  },
  {
   "cell_type": "code",
   "execution_count": 22,
   "id": "b2c20ea3",
   "metadata": {},
   "outputs": [
    {
     "data": {
      "text/plain": [
       "Text(0.5, 1.0, ' AGE distribution plot')"
      ]
     },
     "execution_count": 22,
     "metadata": {},
     "output_type": "execute_result"
    },
    {
     "data": {
      "image/png": "[encoded data removed]",
      "text/plain": [
       "<Figure size 720x720 with 1 Axes>"
      ]
     },
     "metadata": {},
     "output_type": "display_data"
    }
   ],
   "source": [
    "plt.figure(figsize = (10,10), facecolor = 'yellow')\n",
    "sns.distplot(data['age']) \n",
    "plt.title(' AGE distribution plot')"
   ]
  },
  {
   "cell_type": "code",
   "execution_count": 23,
   "id": "7433e21c",
   "metadata": {},
   "outputs": [
    {
     "data": {
      "text/plain": [
       "Text(0.5, 1.0, ' CHARGE distribution plot')"
      ]
     },
     "execution_count": 23,
     "metadata": {},
     "output_type": "execute_result"
    },
    {
     "data": {
      "image/png": "[encoded data removed]",
      "text/plain": [
       "<Figure size 720x720 with 1 Axes>"
      ]
     },
     "metadata": {},
     "output_type": "display_data"
    }
   ],
   "source": [
    "plt.figure(figsize = (10,10), facecolor = 'yellow')\n",
    "sns.distplot(data['charges']) \n",
    "plt.title(' CHARGE distribution plot')"
   ]
  },
  {
   "cell_type": "code",
   "execution_count": 24,
   "id": "20f9de2f",
   "metadata": {},
   "outputs": [],
   "source": [
    "# SPLITTING THE FEATURE AND TARGET \n",
    "\n",
    "x = data.drop(columns = 'charges', axis = 1)\n",
    "y = data.charges"
   ]
  },
  {
   "cell_type": "code",
   "execution_count": 25,
   "id": "a8f7b0d4",
   "metadata": {},
   "outputs": [
    {
     "data": {
      "text/html": [
       "<div>\n",
       "<style scoped>\n",
       "    .dataframe tbody tr th:only-of-type {\n",
       "        vertical-align: middle;\n",
       "    }\n",
       "\n",
       "    .dataframe tbody tr th {\n",
       "        vertical-align: top;\n",
       "    }\n",
       "\n",
       "    .dataframe thead th {\n",
       "        text-align: right;\n",
       "    }\n",
       "</style>\n",
       "<table border=\"1\" class=\"dataframe\">\n",
       "  <thead>\n",
       "    <tr style=\"text-align: right;\">\n",
       "      <th></th>\n",
       "      <th>age</th>\n",
       "      <th>sex</th>\n",
       "      <th>bmi</th>\n",
       "      <th>children</th>\n",
       "      <th>smoker</th>\n",
       "      <th>region</th>\n",
       "    </tr>\n",
       "  </thead>\n",
       "  <tbody>\n",
       "    <tr>\n",
       "      <th>0</th>\n",
       "      <td>19</td>\n",
       "      <td>0</td>\n",
       "      <td>27.900</td>\n",
       "      <td>0</td>\n",
       "      <td>1</td>\n",
       "      <td>1</td>\n",
       "    </tr>\n",
       "    <tr>\n",
       "      <th>1</th>\n",
       "      <td>18</td>\n",
       "      <td>1</td>\n",
       "      <td>33.770</td>\n",
       "      <td>1</td>\n",
       "      <td>0</td>\n",
       "      <td>2</td>\n",
       "    </tr>\n",
       "    <tr>\n",
       "      <th>2</th>\n",
       "      <td>28</td>\n",
       "      <td>1</td>\n",
       "      <td>33.000</td>\n",
       "      <td>3</td>\n",
       "      <td>0</td>\n",
       "      <td>2</td>\n",
       "    </tr>\n",
       "    <tr>\n",
       "      <th>3</th>\n",
       "      <td>33</td>\n",
       "      <td>1</td>\n",
       "      <td>22.705</td>\n",
       "      <td>0</td>\n",
       "      <td>0</td>\n",
       "      <td>3</td>\n",
       "    </tr>\n",
       "    <tr>\n",
       "      <th>4</th>\n",
       "      <td>32</td>\n",
       "      <td>1</td>\n",
       "      <td>28.880</td>\n",
       "      <td>0</td>\n",
       "      <td>0</td>\n",
       "      <td>3</td>\n",
       "    </tr>\n",
       "    <tr>\n",
       "      <th>...</th>\n",
       "      <td>...</td>\n",
       "      <td>...</td>\n",
       "      <td>...</td>\n",
       "      <td>...</td>\n",
       "      <td>...</td>\n",
       "      <td>...</td>\n",
       "    </tr>\n",
       "    <tr>\n",
       "      <th>1333</th>\n",
       "      <td>50</td>\n",
       "      <td>1</td>\n",
       "      <td>30.970</td>\n",
       "      <td>3</td>\n",
       "      <td>0</td>\n",
       "      <td>3</td>\n",
       "    </tr>\n",
       "    <tr>\n",
       "      <th>1334</th>\n",
       "      <td>18</td>\n",
       "      <td>0</td>\n",
       "      <td>31.920</td>\n",
       "      <td>0</td>\n",
       "      <td>0</td>\n",
       "      <td>4</td>\n",
       "    </tr>\n",
       "    <tr>\n",
       "      <th>1335</th>\n",
       "      <td>18</td>\n",
       "      <td>0</td>\n",
       "      <td>36.850</td>\n",
       "      <td>0</td>\n",
       "      <td>0</td>\n",
       "      <td>2</td>\n",
       "    </tr>\n",
       "    <tr>\n",
       "      <th>1336</th>\n",
       "      <td>21</td>\n",
       "      <td>0</td>\n",
       "      <td>25.800</td>\n",
       "      <td>0</td>\n",
       "      <td>0</td>\n",
       "      <td>1</td>\n",
       "    </tr>\n",
       "    <tr>\n",
       "      <th>1337</th>\n",
       "      <td>61</td>\n",
       "      <td>0</td>\n",
       "      <td>29.070</td>\n",
       "      <td>0</td>\n",
       "      <td>1</td>\n",
       "      <td>3</td>\n",
       "    </tr>\n",
       "  </tbody>\n",
       "</table>\n",
       "<p>1338 rows × 6 columns</p>\n",
       "</div>"
      ],
      "text/plain": [
       "      age  sex     bmi  children  smoker  region\n",
       "0      19    0  27.900         0       1       1\n",
       "1      18    1  33.770         1       0       2\n",
       "2      28    1  33.000         3       0       2\n",
       "3      33    1  22.705         0       0       3\n",
       "4      32    1  28.880         0       0       3\n",
       "...   ...  ...     ...       ...     ...     ...\n",
       "1333   50    1  30.970         3       0       3\n",
       "1334   18    0  31.920         0       0       4\n",
       "1335   18    0  36.850         0       0       2\n",
       "1336   21    0  25.800         0       0       1\n",
       "1337   61    0  29.070         0       1       3\n",
       "\n",
       "[1338 rows x 6 columns]"
      ]
     },
     "execution_count": 25,
     "metadata": {},
     "output_type": "execute_result"
    }
   ],
   "source": [
    "x"
   ]
  },
  {
   "cell_type": "code",
   "execution_count": 26,
   "id": "4f6e8933",
   "metadata": {},
   "outputs": [
    {
     "data": {
      "text/plain": [
       "0       16884.92400\n",
       "1        1725.55230\n",
       "2        4449.46200\n",
       "3       21984.47061\n",
       "4        3866.85520\n",
       "           ...     \n",
       "1333    10600.54830\n",
       "1334     2205.98080\n",
       "1335     1629.83350\n",
       "1336     2007.94500\n",
       "1337    29141.36030\n",
       "Name: charges, Length: 1338, dtype: float64"
      ]
     },
     "execution_count": 26,
     "metadata": {},
     "output_type": "execute_result"
    }
   ],
   "source": [
    "y"
   ]
  },
  {
   "cell_type": "code",
   "execution_count": 27,
   "id": "39754d9e",
   "metadata": {},
   "outputs": [],
   "source": [
    "# splitting into training and testing data\n",
    "\n",
    "x_train, x_test, y_train, y_test = train_test_split(x, y, test_size = 0.25, random_state = 509)"
   ]
  },
  {
   "cell_type": "code",
   "execution_count": 164,
   "id": "9f5798bc",
   "metadata": {},
   "outputs": [],
   "source": [
    "from sklearn.linear_model import LinearRegression\n",
    "from sklearn.svm import SVR\n",
    "from sklearn.ensemble import RandomForestRegressor\n",
    "from sklearn.ensemble import GradientBoostingRegressor\n",
    "from sklearn import metrics\n"
   ]
  },
  {
   "cell_type": "markdown",
   "id": "cff8b5e0",
   "metadata": {},
   "source": [
    "# LINEAR REGRESSION MODEL"
   ]
  },
  {
   "cell_type": "code",
   "execution_count": 43,
   "id": "ae63c5ad",
   "metadata": {},
   "outputs": [
    {
     "data": {
      "text/plain": [
       "LinearRegression()"
      ]
     },
     "execution_count": 43,
     "metadata": {},
     "output_type": "execute_result"
    }
   ],
   "source": [
    "lr = LinearRegression()\n",
    "lr.fit(x_train, y_train)"
   ]
  },
  {
   "cell_type": "code",
   "execution_count": 44,
   "id": "1f113b88",
   "metadata": {},
   "outputs": [
    {
     "data": {
      "text/plain": [
       "array([40290.39273149, 11528.91272381, 34084.05444491, ...,\n",
       "       13061.26641302,  8417.62880834, 37723.02643349])"
      ]
     },
     "execution_count": 44,
     "metadata": {},
     "output_type": "execute_result"
    }
   ],
   "source": [
    "y_pred_train = lr.predict(x_train)\n",
    "y_pred_train"
   ]
  },
  {
   "cell_type": "code",
   "execution_count": 45,
   "id": "f5d76430",
   "metadata": {},
   "outputs": [
    {
     "name": "stdout",
     "output_type": "stream",
     "text": [
      "R square score 0.7545777288630052\n"
     ]
    }
   ],
   "source": [
    "accuracy = metrics.r2_score(y_train, y_pred)\n",
    "print('R square score', accuracy)"
   ]
  },
  {
   "cell_type": "code",
   "execution_count": 46,
   "id": "af1a3099",
   "metadata": {},
   "outputs": [
    {
     "data": {
      "text/plain": [
       "array([12918.59309265,  2210.52065098, 11668.52218294, 14466.98994451,\n",
       "        5135.27587412,  2360.8349518 , 37396.75309342,  6900.5882283 ,\n",
       "       15200.61374176, 15608.24983557, 11407.61052134, 36166.31685692,\n",
       "       33961.6016796 ,  9044.07503038, 29445.21094659, 31947.00498823,\n",
       "        8255.94565492,  9196.49930401,   899.65302237,  8671.03514407,\n",
       "        4405.71915254,  5108.80316614,  3767.75855273, 11828.25838892,\n",
       "       32044.18037514, 11285.54433151,  6647.24908066, 32480.63470578,\n",
       "        2539.24499064, 37244.0651384 , 14994.60139565, 15772.98630194,\n",
       "        5051.68944636, 24365.31888903,  4960.51451152,  3131.46767536,\n",
       "        4897.02068886, 16006.30833991, 10018.37660228, 14586.32025268,\n",
       "       12216.17337482, 34893.59150194, 13576.41405114, 31319.88277862,\n",
       "        9712.81521505,  7831.57280512, 13254.16950597,  2471.0402154 ,\n",
       "       13130.5956567 ,  1985.00475623, 11930.64766617,  4647.08888045,\n",
       "       11036.53333644,  2697.45913658, 26523.27233683, 28945.54147597,\n",
       "        6897.52087645, 39262.99508576,  5593.17528156, 33625.68965707,\n",
       "       11500.17118394, 13993.37342719, 10842.52455366, 11258.42889015,\n",
       "       13429.58443492, 28372.20234389, 26531.08350647,  5619.90753191,\n",
       "        8784.51495293, 11273.24653936, 35755.83969744,  9762.06052267,\n",
       "        5639.48853021, 12803.27996257, 13566.53884839, 11433.62954074,\n",
       "       35788.56630473, 13826.21398044, 26716.22850399,  2882.83698138,\n",
       "       13315.68630162, 13747.86112818,  6791.55915396, 12343.68085741,\n",
       "       33451.36080965,  3753.4477706 , 33411.07267522,  8705.53775506,\n",
       "       32031.34217501,  8256.68052511, 33925.35442287,  9399.92824758,\n",
       "        4014.4669633 ,  5980.6199375 ,  6187.33621539, 10240.236659  ,\n",
       "        1302.67920859, 14369.92002833,  7428.76264349,  8121.1776741 ,\n",
       "        3891.16221283, 25247.9175626 , 12722.50905094, 37101.41926583,\n",
       "       30897.13459894, 35197.31714587,  5665.93717688,  5717.6558303 ,\n",
       "       11940.76808569, 12205.72322949,  3308.16147865, 11762.59706608,\n",
       "        4751.57349092, 12629.24534396,  8387.69704032,  6032.82952087,\n",
       "         972.943424  , 33057.47157153,  8806.3932226 ,  5079.64999578,\n",
       "       30587.95247969,  7757.48698315, 27478.61076993,  7277.23944205,\n",
       "       28849.8434878 ,  2851.01918148, 13604.29782673, 38532.29717736,\n",
       "       13589.8729524 , 26919.83932855,  5523.0358534 ,  5491.05851689,\n",
       "       11158.87518618, 28408.88482458,  8707.71588038,  7253.92226613,\n",
       "       38475.05618533, 25484.49724631,  4840.97398716,  4135.2130788 ,\n",
       "       16504.05474513,  2447.48691017,  7197.40398464,  9703.02730511,\n",
       "       11535.34978251, 30625.28417785,  8329.02787145,  7149.54283968,\n",
       "       28967.79348563, 10319.42581743,  3024.10707362, 25629.12107972,\n",
       "        6867.38266957, 29216.09406282,  9644.33350152,  4244.36437154,\n",
       "        2958.84266468,  5768.38608943,  7571.91913117,  3727.6378987 ,\n",
       "       16265.49788256, 15835.35083943,  6231.15223805,  8974.87623358,\n",
       "       12472.90696832,  -962.24779763, 12846.66732237,   662.32898889,\n",
       "       11826.22849942,  3667.3596637 , 27212.30365098, 17272.74864745,\n",
       "       40756.65601107,  9934.57422678, 15789.25233698, 12834.02946786,\n",
       "        6636.70369875, 12644.80869634,  9347.7047296 ,  7103.74593769,\n",
       "       10459.5360771 , 15611.58500783,  4618.56575796, 27518.24348749,\n",
       "       10830.6116969 ,  5639.02314983, 13223.05264252,  6993.17391662,\n",
       "        6919.49323903,  7870.6853237 ,  3008.48694657, 10328.86611036,\n",
       "        6397.40623444,  3187.26827289, 40223.92643188, 10437.24974455,\n",
       "        9393.08219218,  1828.91074038,  6131.40873659,  7541.87811696,\n",
       "       31868.95748446,  3108.10067684, 29323.63886334,  3107.77048505,\n",
       "        9462.07155277,  4408.03217975,  9304.49779311,  3456.72707157,\n",
       "        2294.97125226,  8575.66492561, 33818.6981439 ,  3231.58092963,\n",
       "       32678.58321699, 13919.23325262, 10120.96726453,  7458.94957572,\n",
       "        7910.97827485, 16471.6623168 , 27705.82297607,  9403.78557491,\n",
       "       14270.71058361, 31704.58053677, 13389.02071743,  8728.38702423,\n",
       "        6368.10665152,  3511.10665406, 15266.68359532,  2417.95198105,\n",
       "        7150.8723936 , 34459.38639488, 13065.59243022, 16983.04031139,\n",
       "       30815.76564581,  6341.14079936,  4573.21006948, 10229.2643586 ,\n",
       "       25914.67483687,  9825.8656065 ,  4941.80403799, 14848.88335451,\n",
       "       35656.35136018,  6719.48137241, 14655.56082087, 11551.34700545,\n",
       "        5312.88952837, 29625.70764962, 33168.26753168,  6158.36385934,\n",
       "         940.5609431 ,  3981.7547566 ,  6602.42570453, 14162.71527113,\n",
       "       14435.012608  , 32273.98265107,  6657.21944501, 28398.98449182,\n",
       "        9569.09245384, 11858.05585575, 12311.84527059,  6729.44321957,\n",
       "       15721.48731572,  7184.89433621,  5464.04886226, 11174.49096436,\n",
       "       35613.30270935,  3078.5430398 ,  2741.22034066, 13798.33020484,\n",
       "       10815.5166434 ,  3624.0778789 , 37062.09741846, 23707.71306774,\n",
       "        7285.22785838, 10475.92162176,  5369.70245823,  9083.35375097,\n",
       "       10063.15211191, 36158.64985906,  5675.92194182, 10529.66563468,\n",
       "       11948.60759053, 31891.9235819 ,  3245.95272975, 33439.76983921,\n",
       "       14051.74263569,  8995.41054875, 37232.34838394,  5491.53822288,\n",
       "        3445.76917177,  5577.95152557,  9398.96295221, 32096.397798  ,\n",
       "        5279.02579642, 26495.7631582 , 15318.4219899 , 14600.45339713,\n",
       "       13130.9100945 , 39023.20148378, 12517.95082221, 39116.24880446,\n",
       "       30222.07204847, 35947.52316036,  2382.18247422, 11343.89999639,\n",
       "        8818.29545424,  9070.15574547, 29122.89754394,  1871.57106949,\n",
       "       10723.48800646, 12269.83038164, 38916.24196426, 30057.2808385 ,\n",
       "       30899.35449564, 10510.10552307, 30322.56000399,  1043.83582341,\n",
       "        2268.82381507,  5601.95416865, 25455.63830477,  4814.2825458 ,\n",
       "        7427.57483927,  5115.58802241, 10025.04280777, 12527.76375787,\n",
       "        2392.10796555,  2565.44927751,  9223.57771184, 12196.42054724,\n",
       "       27318.30037406, 32824.79921702, 38447.92944316,  7756.02380573,\n",
       "       35857.51378965,  1408.29099628, 13740.79605269])"
      ]
     },
     "execution_count": 46,
     "metadata": {},
     "output_type": "execute_result"
    }
   ],
   "source": [
    "# Now predicting on test data\n",
    "y_pred_test = lr.predict(x_test)\n",
    "y_pred_test"
   ]
  },
  {
   "cell_type": "code",
   "execution_count": 47,
   "id": "50db9090",
   "metadata": {},
   "outputs": [
    {
     "name": "stdout",
     "output_type": "stream",
     "text": [
      "R square score on test data 0.737488870470441\n"
     ]
    }
   ],
   "source": [
    "accuracy_test = metrics.r2_score(y_test, y_pred_test)\n",
    "print('R square score on test data', accuracy_test)"
   ]
  },
  {
   "cell_type": "code",
   "execution_count": null,
   "id": "9a2f3102",
   "metadata": {},
   "outputs": [],
   "source": []
  },
  {
   "cell_type": "markdown",
   "id": "1ca72258",
   "metadata": {},
   "source": [
    "# support vector regression"
   ]
  },
  {
   "cell_type": "code",
   "execution_count": 48,
   "id": "0e228c6e",
   "metadata": {},
   "outputs": [
    {
     "data": {
      "text/plain": [
       "SVR()"
      ]
     },
     "execution_count": 48,
     "metadata": {},
     "output_type": "execute_result"
    }
   ],
   "source": [
    "sv = SVR()\n",
    "sv.fit(x_train, y_train)"
   ]
  },
  {
   "cell_type": "code",
   "execution_count": 49,
   "id": "427576a1",
   "metadata": {},
   "outputs": [
    {
     "data": {
      "text/plain": [
       "array([9318.09005803, 9290.35711413, 9246.72415995, ..., 9203.26263324,\n",
       "       9163.01835077, 9328.38015824])"
      ]
     },
     "execution_count": 49,
     "metadata": {},
     "output_type": "execute_result"
    }
   ],
   "source": [
    "y_pred_sv_train = sv.predict(x_train)\n",
    "y_pred_sv_train"
   ]
  },
  {
   "cell_type": "code",
   "execution_count": 50,
   "id": "36196a30",
   "metadata": {},
   "outputs": [
    {
     "name": "stdout",
     "output_type": "stream",
     "text": [
      "R square score 0.7545777288630052\n"
     ]
    }
   ],
   "source": [
    "accuracy_sv_train = metrics.r2_score(y_train, y_pred_sv_train)\n",
    "print('R square score', accuracy)"
   ]
  },
  {
   "cell_type": "code",
   "execution_count": 51,
   "id": "c774424b",
   "metadata": {},
   "outputs": [
    {
     "data": {
      "text/plain": [
       "array([12918.59309265,  2210.52065098, 11668.52218294, 14466.98994451,\n",
       "        5135.27587412,  2360.8349518 , 37396.75309342,  6900.5882283 ,\n",
       "       15200.61374176, 15608.24983557, 11407.61052134, 36166.31685692,\n",
       "       33961.6016796 ,  9044.07503038, 29445.21094659, 31947.00498823,\n",
       "        8255.94565492,  9196.49930401,   899.65302237,  8671.03514407,\n",
       "        4405.71915254,  5108.80316614,  3767.75855273, 11828.25838892,\n",
       "       32044.18037514, 11285.54433151,  6647.24908066, 32480.63470578,\n",
       "        2539.24499064, 37244.0651384 , 14994.60139565, 15772.98630194,\n",
       "        5051.68944636, 24365.31888903,  4960.51451152,  3131.46767536,\n",
       "        4897.02068886, 16006.30833991, 10018.37660228, 14586.32025268,\n",
       "       12216.17337482, 34893.59150194, 13576.41405114, 31319.88277862,\n",
       "        9712.81521505,  7831.57280512, 13254.16950597,  2471.0402154 ,\n",
       "       13130.5956567 ,  1985.00475623, 11930.64766617,  4647.08888045,\n",
       "       11036.53333644,  2697.45913658, 26523.27233683, 28945.54147597,\n",
       "        6897.52087645, 39262.99508576,  5593.17528156, 33625.68965707,\n",
       "       11500.17118394, 13993.37342719, 10842.52455366, 11258.42889015,\n",
       "       13429.58443492, 28372.20234389, 26531.08350647,  5619.90753191,\n",
       "        8784.51495293, 11273.24653936, 35755.83969744,  9762.06052267,\n",
       "        5639.48853021, 12803.27996257, 13566.53884839, 11433.62954074,\n",
       "       35788.56630473, 13826.21398044, 26716.22850399,  2882.83698138,\n",
       "       13315.68630162, 13747.86112818,  6791.55915396, 12343.68085741,\n",
       "       33451.36080965,  3753.4477706 , 33411.07267522,  8705.53775506,\n",
       "       32031.34217501,  8256.68052511, 33925.35442287,  9399.92824758,\n",
       "        4014.4669633 ,  5980.6199375 ,  6187.33621539, 10240.236659  ,\n",
       "        1302.67920859, 14369.92002833,  7428.76264349,  8121.1776741 ,\n",
       "        3891.16221283, 25247.9175626 , 12722.50905094, 37101.41926583,\n",
       "       30897.13459894, 35197.31714587,  5665.93717688,  5717.6558303 ,\n",
       "       11940.76808569, 12205.72322949,  3308.16147865, 11762.59706608,\n",
       "        4751.57349092, 12629.24534396,  8387.69704032,  6032.82952087,\n",
       "         972.943424  , 33057.47157153,  8806.3932226 ,  5079.64999578,\n",
       "       30587.95247969,  7757.48698315, 27478.61076993,  7277.23944205,\n",
       "       28849.8434878 ,  2851.01918148, 13604.29782673, 38532.29717736,\n",
       "       13589.8729524 , 26919.83932855,  5523.0358534 ,  5491.05851689,\n",
       "       11158.87518618, 28408.88482458,  8707.71588038,  7253.92226613,\n",
       "       38475.05618533, 25484.49724631,  4840.97398716,  4135.2130788 ,\n",
       "       16504.05474513,  2447.48691017,  7197.40398464,  9703.02730511,\n",
       "       11535.34978251, 30625.28417785,  8329.02787145,  7149.54283968,\n",
       "       28967.79348563, 10319.42581743,  3024.10707362, 25629.12107972,\n",
       "        6867.38266957, 29216.09406282,  9644.33350152,  4244.36437154,\n",
       "        2958.84266468,  5768.38608943,  7571.91913117,  3727.6378987 ,\n",
       "       16265.49788256, 15835.35083943,  6231.15223805,  8974.87623358,\n",
       "       12472.90696832,  -962.24779763, 12846.66732237,   662.32898889,\n",
       "       11826.22849942,  3667.3596637 , 27212.30365098, 17272.74864745,\n",
       "       40756.65601107,  9934.57422678, 15789.25233698, 12834.02946786,\n",
       "        6636.70369875, 12644.80869634,  9347.7047296 ,  7103.74593769,\n",
       "       10459.5360771 , 15611.58500783,  4618.56575796, 27518.24348749,\n",
       "       10830.6116969 ,  5639.02314983, 13223.05264252,  6993.17391662,\n",
       "        6919.49323903,  7870.6853237 ,  3008.48694657, 10328.86611036,\n",
       "        6397.40623444,  3187.26827289, 40223.92643188, 10437.24974455,\n",
       "        9393.08219218,  1828.91074038,  6131.40873659,  7541.87811696,\n",
       "       31868.95748446,  3108.10067684, 29323.63886334,  3107.77048505,\n",
       "        9462.07155277,  4408.03217975,  9304.49779311,  3456.72707157,\n",
       "        2294.97125226,  8575.66492561, 33818.6981439 ,  3231.58092963,\n",
       "       32678.58321699, 13919.23325262, 10120.96726453,  7458.94957572,\n",
       "        7910.97827485, 16471.6623168 , 27705.82297607,  9403.78557491,\n",
       "       14270.71058361, 31704.58053677, 13389.02071743,  8728.38702423,\n",
       "        6368.10665152,  3511.10665406, 15266.68359532,  2417.95198105,\n",
       "        7150.8723936 , 34459.38639488, 13065.59243022, 16983.04031139,\n",
       "       30815.76564581,  6341.14079936,  4573.21006948, 10229.2643586 ,\n",
       "       25914.67483687,  9825.8656065 ,  4941.80403799, 14848.88335451,\n",
       "       35656.35136018,  6719.48137241, 14655.56082087, 11551.34700545,\n",
       "        5312.88952837, 29625.70764962, 33168.26753168,  6158.36385934,\n",
       "         940.5609431 ,  3981.7547566 ,  6602.42570453, 14162.71527113,\n",
       "       14435.012608  , 32273.98265107,  6657.21944501, 28398.98449182,\n",
       "        9569.09245384, 11858.05585575, 12311.84527059,  6729.44321957,\n",
       "       15721.48731572,  7184.89433621,  5464.04886226, 11174.49096436,\n",
       "       35613.30270935,  3078.5430398 ,  2741.22034066, 13798.33020484,\n",
       "       10815.5166434 ,  3624.0778789 , 37062.09741846, 23707.71306774,\n",
       "        7285.22785838, 10475.92162176,  5369.70245823,  9083.35375097,\n",
       "       10063.15211191, 36158.64985906,  5675.92194182, 10529.66563468,\n",
       "       11948.60759053, 31891.9235819 ,  3245.95272975, 33439.76983921,\n",
       "       14051.74263569,  8995.41054875, 37232.34838394,  5491.53822288,\n",
       "        3445.76917177,  5577.95152557,  9398.96295221, 32096.397798  ,\n",
       "        5279.02579642, 26495.7631582 , 15318.4219899 , 14600.45339713,\n",
       "       13130.9100945 , 39023.20148378, 12517.95082221, 39116.24880446,\n",
       "       30222.07204847, 35947.52316036,  2382.18247422, 11343.89999639,\n",
       "        8818.29545424,  9070.15574547, 29122.89754394,  1871.57106949,\n",
       "       10723.48800646, 12269.83038164, 38916.24196426, 30057.2808385 ,\n",
       "       30899.35449564, 10510.10552307, 30322.56000399,  1043.83582341,\n",
       "        2268.82381507,  5601.95416865, 25455.63830477,  4814.2825458 ,\n",
       "        7427.57483927,  5115.58802241, 10025.04280777, 12527.76375787,\n",
       "        2392.10796555,  2565.44927751,  9223.57771184, 12196.42054724,\n",
       "       27318.30037406, 32824.79921702, 38447.92944316,  7756.02380573,\n",
       "       35857.51378965,  1408.29099628, 13740.79605269])"
      ]
     },
     "execution_count": 51,
     "metadata": {},
     "output_type": "execute_result"
    }
   ],
   "source": [
    "# Now predicting on test data\n",
    "y_pred_sv_test = lr.predict(x_test)\n",
    "y_pred_sv_test"
   ]
  },
  {
   "cell_type": "code",
   "execution_count": 52,
   "id": "cfdf88de",
   "metadata": {},
   "outputs": [
    {
     "name": "stdout",
     "output_type": "stream",
     "text": [
      "R square score on test data 0.737488870470441\n"
     ]
    }
   ],
   "source": [
    "accuracy_sv_test = metrics.r2_score(y_test, y_pred_sv_test)\n",
    "print('R square score on test data', accuracy_sv_test)"
   ]
  },
  {
   "cell_type": "markdown",
   "id": "e0740eae",
   "metadata": {},
   "source": [
    "# RANDOM FOREST REGRESSOR"
   ]
  },
  {
   "cell_type": "code",
   "execution_count": 70,
   "id": "ad560c98",
   "metadata": {},
   "outputs": [],
   "source": [
    "rf = RandomForestRegressor()\n",
    "rf.fit(x_train, y_train)\n",
    "\n",
    "y_pred_rf_train = rf.predict(x_train)\n",
    "y_pred_rf_test = rf.predict(x_test)\n",
    "accuracy_rf_train = metrics.r2_score(y_train, y_pred_rf_train)\n",
    "accuracy_rf_test = metrics.r2_score(y_test, y_pred_rf_test)\n"
   ]
  },
  {
   "cell_type": "code",
   "execution_count": 71,
   "id": "518c41fc",
   "metadata": {
    "scrolled": false
   },
   "outputs": [
    {
     "name": "stdout",
     "output_type": "stream",
     "text": [
      "R square score on train data 0.9761618911980254\n",
      "R square score on test data 0.835854533521941\n"
     ]
    }
   ],
   "source": [
    "print('R square score on train data', accuracy_rf_train)\n",
    "print('R square score on test data', accuracy_rf_test)\n"
   ]
  },
  {
   "cell_type": "markdown",
   "id": "67c4a914",
   "metadata": {},
   "source": [
    "# GRADIENT BOOSTING REGRESSOR"
   ]
  },
  {
   "cell_type": "code",
   "execution_count": 74,
   "id": "14240437",
   "metadata": {},
   "outputs": [
    {
     "data": {
      "text/plain": [
       "GradientBoostingRegressor()"
      ]
     },
     "execution_count": 74,
     "metadata": {},
     "output_type": "execute_result"
    }
   ],
   "source": [
    "gb = GradientBoostingRegressor()\n",
    "gb.fit(x_train, y_train)"
   ]
  },
  {
   "cell_type": "code",
   "execution_count": 75,
   "id": "a2cbbb09",
   "metadata": {},
   "outputs": [],
   "source": [
    "y_pred_gb_train = gb.predict(x_train)\n",
    "y_pred_gb_test = gb.predict(x_test)\n",
    "accuracy_gb_train = metrics.r2_score(y_train, y_pred_gb_train)\n",
    "accuracy_gb_test = metrics.r2_score(y_test, y_pred_gb_test)"
   ]
  },
  {
   "cell_type": "code",
   "execution_count": 76,
   "id": "0887bcee",
   "metadata": {},
   "outputs": [
    {
     "name": "stdout",
     "output_type": "stream",
     "text": [
      "R square score on train data 0.9050322788967319\n",
      "R square score on test data 0.8596135599350522\n"
     ]
    }
   ],
   "source": [
    "print('R square score on train data', accuracy_gb_train)\n",
    "print('R square score on test data', accuracy_gb_test)"
   ]
  },
  {
   "cell_type": "markdown",
   "id": "a01e254f",
   "metadata": {},
   "source": [
    "# ADDA BOOST REGRESSOR"
   ]
  },
  {
   "cell_type": "code",
   "execution_count": 82,
   "id": "83c9a884",
   "metadata": {},
   "outputs": [],
   "source": [
    "from sklearn.ensemble import AdaBoostRegressor"
   ]
  },
  {
   "cell_type": "code",
   "execution_count": 84,
   "id": "545df3f7",
   "metadata": {},
   "outputs": [
    {
     "data": {
      "text/plain": [
       "AdaBoostRegressor()"
      ]
     },
     "execution_count": 84,
     "metadata": {},
     "output_type": "execute_result"
    }
   ],
   "source": [
    "ab = AdaBoostRegressor()\n",
    "ab.fit(x_train, y_train)"
   ]
  },
  {
   "cell_type": "code",
   "execution_count": 85,
   "id": "8f40d47d",
   "metadata": {},
   "outputs": [],
   "source": [
    "y_pred_ab_train = ab.predict(x_train)\n",
    "y_pred_ab_test = ab.predict(x_test)\n",
    "accuracy_ab_train = metrics.r2_score(y_train, y_pred_ab_train)\n",
    "accuracy_ab_test = metrics.r2_score(y_test, y_pred_ab_test)"
   ]
  },
  {
   "cell_type": "code",
   "execution_count": 86,
   "id": "ee0835eb",
   "metadata": {
    "scrolled": true
   },
   "outputs": [
    {
     "name": "stdout",
     "output_type": "stream",
     "text": [
      "R square score on train data 0.8353495198108161\n",
      "R square score on test data 0.8313021039572461\n"
     ]
    }
   ],
   "source": [
    "print('R square score on train data', accuracy_ab_train)\n",
    "print('R square score on test data', accuracy_ab_test)"
   ]
  },
  {
   "cell_type": "markdown",
   "id": "c4a96128",
   "metadata": {},
   "source": [
    "# XGBOOST REGRESSOR"
   ]
  },
  {
   "cell_type": "code",
   "execution_count": 167,
   "id": "3d856cd7",
   "metadata": {},
   "outputs": [],
   "source": [
    "import xgboost as xgb"
   ]
  },
  {
   "cell_type": "code",
   "execution_count": 168,
   "id": "a55007d5",
   "metadata": {},
   "outputs": [
    {
     "data": {
      "text/plain": [
       "XGBRegressor(base_score=None, booster=None, callbacks=None,\n",
       "             colsample_bylevel=None, colsample_bynode=None,\n",
       "             colsample_bytree=None, early_stopping_rounds=None,\n",
       "             enable_categorical=False, eval_metric=None, feature_types=None,\n",
       "             gamma=None, gpu_id=None, grow_policy=None, importance_type=None,\n",
       "             interaction_constraints=None, learning_rate=None, max_bin=None,\n",
       "             max_cat_threshold=None, max_cat_to_onehot=None,\n",
       "             max_delta_step=None, max_depth=None, max_leaves=None,\n",
       "             min_child_weight=None, missing=nan, monotone_constraints=None,\n",
       "             n_estimators=100, n_jobs=None, num_parallel_tree=None,\n",
       "             predictor=None, random_state=None, ...)"
      ]
     },
     "execution_count": 168,
     "metadata": {},
     "output_type": "execute_result"
    }
   ],
   "source": [
    "xgb = xgb.XGBRegressor()\n",
    "xgb.fit(x_train, y_train)"
   ]
  },
  {
   "cell_type": "code",
   "execution_count": 169,
   "id": "55843359",
   "metadata": {},
   "outputs": [],
   "source": [
    "y_pred_xgb_train = xgb.predict(x_train)\n",
    "y_pred_xgb_test = xgb.predict(x_test)\n",
    "accuracy_xgb_train = metrics.r2_score(y_train, y_pred_xgb_train)\n",
    "accuracy_xgb_test = metrics.r2_score(y_test, y_pred_xgb_test)"
   ]
  },
  {
   "cell_type": "code",
   "execution_count": 170,
   "id": "67d7bfde",
   "metadata": {},
   "outputs": [
    {
     "name": "stdout",
     "output_type": "stream",
     "text": [
      "R square score on train data 0.9953757684450911\n",
      "R square score on test data 0.8174230521712191\n"
     ]
    }
   ],
   "source": [
    "print('R square score on train data', accuracy_xgb_train)\n",
    "print('R square score on test data', accuracy_xgb_test)"
   ]
  },
  {
   "cell_type": "code",
   "execution_count": null,
   "id": "e4e2a0cf",
   "metadata": {},
   "outputs": [],
   "source": []
  },
  {
   "cell_type": "markdown",
   "id": "9e22dd35",
   "metadata": {},
   "source": [
    "# HYPERPARAMETER TUNING USING RANDOMIZED SEARCH CV(Ada booost & Gradient boost)"
   ]
  },
  {
   "cell_type": "code",
   "execution_count": 100,
   "id": "ef8f145f",
   "metadata": {},
   "outputs": [],
   "source": [
    "from sklearn.model_selection import RandomizedSearchCV"
   ]
  },
  {
   "cell_type": "code",
   "execution_count": 101,
   "id": "22a5e1f8",
   "metadata": {},
   "outputs": [],
   "source": [
    "params = {'n_estimators':[10, 20, 30, 40, 50, 60, 70, 80, 90, 100, 110], 'learning_rate':[0.25, 0.30, 0.35, 0.40, 0.45, 0.50, 0.55, 0.60, 0.70, 0.75]}"
   ]
  },
  {
   "cell_type": "code",
   "execution_count": 105,
   "id": "57eed7e6",
   "metadata": {},
   "outputs": [],
   "source": [
    "rnd_srch = RandomizedSearchCV(GradientBoostingRegressor(), cv = 5, param_distributions = params)"
   ]
  },
  {
   "cell_type": "code",
   "execution_count": 106,
   "id": "69a1c940",
   "metadata": {},
   "outputs": [
    {
     "data": {
      "text/plain": [
       "RandomizedSearchCV(cv=5, estimator=GradientBoostingRegressor(),\n",
       "                   param_distributions={'learning_rate': [0.25, 0.3, 0.35, 0.4,\n",
       "                                                          0.45, 0.5, 0.55, 0.6,\n",
       "                                                          0.7, 0.75],\n",
       "                                        'n_estimators': [10, 20, 30, 40, 50, 60,\n",
       "                                                         70, 80, 90, 100,\n",
       "                                                         110]})"
      ]
     },
     "execution_count": 106,
     "metadata": {},
     "output_type": "execute_result"
    }
   ],
   "source": [
    "rnd_srch.fit(x_train, y_train)"
   ]
  },
  {
   "cell_type": "code",
   "execution_count": 107,
   "id": "fd2513ed",
   "metadata": {},
   "outputs": [
    {
     "data": {
      "text/plain": [
       "GradientBoostingRegressor(learning_rate=0.5, n_estimators=20)"
      ]
     },
     "execution_count": 107,
     "metadata": {},
     "output_type": "execute_result"
    }
   ],
   "source": [
    "rnd_srch.best_estimator_"
   ]
  },
  {
   "cell_type": "code",
   "execution_count": null,
   "id": "5a506c55",
   "metadata": {},
   "outputs": [],
   "source": [
    "# Now lets train and predict after using hyperparameter  tuning (Gradient Boosting classifier)"
   ]
  },
  {
   "cell_type": "code",
   "execution_count": 159,
   "id": "5b47dbf9",
   "metadata": {},
   "outputs": [
    {
     "data": {
      "text/plain": [
       "GradientBoostingRegressor(learning_rate=0.2, n_estimators=20)"
      ]
     },
     "execution_count": 159,
     "metadata": {},
     "output_type": "execute_result"
    }
   ],
   "source": [
    "gb2 = GradientBoostingRegressor(learning_rate = 0.20, n_estimators = 20)\n",
    "gb2.fit(x_train, y_train)"
   ]
  },
  {
   "cell_type": "code",
   "execution_count": 160,
   "id": "a9a0366d",
   "metadata": {},
   "outputs": [],
   "source": [
    "y_pred_gb2_train = gb2.predict(x_train)\n",
    "y_pred_gb2_test = gb2.predict(x_test)\n",
    "accuracy_gb2_train = metrics.r2_score(y_train, y_pred_gb2_train)\n",
    "accuracy_gb2_test = metrics.r2_score(y_test, y_pred_gb2_test)"
   ]
  },
  {
   "cell_type": "code",
   "execution_count": 161,
   "id": "33551162",
   "metadata": {},
   "outputs": [
    {
     "name": "stdout",
     "output_type": "stream",
     "text": [
      "R square score on train data 0.9050322788967319\n",
      "R square score on test data 0.8596135599350522\n",
      "R square score on train data after hyperparameter tuning 0.8824889177204037\n",
      "R square score on test data after hyperparameter tuning 0.85989034164975\n"
     ]
    }
   ],
   "source": [
    "print('R square score on train data', accuracy_gb_train)\n",
    "print('R square score on test data', accuracy_gb_test)\n",
    "print('R square score on train data after hyperparameter tuning', accuracy_gb2_train)\n",
    "print('R square score on test data after hyperparameter tuning', accuracy_gb2_test)"
   ]
  },
  {
   "cell_type": "code",
   "execution_count": 112,
   "id": "a13367a4",
   "metadata": {},
   "outputs": [],
   "source": [
    "rnd_srch = RandomizedSearchCV(AdaBoostRegressor(), cv = 5, param_distributions = params)"
   ]
  },
  {
   "cell_type": "code",
   "execution_count": 113,
   "id": "9725db0b",
   "metadata": {},
   "outputs": [
    {
     "data": {
      "text/plain": [
       "RandomizedSearchCV(cv=5, estimator=AdaBoostRegressor(),\n",
       "                   param_distributions={'learning_rate': [0.25, 0.3, 0.35, 0.4,\n",
       "                                                          0.45, 0.5, 0.55, 0.6,\n",
       "                                                          0.7, 0.75],\n",
       "                                        'n_estimators': [10, 20, 30, 40, 50, 60,\n",
       "                                                         70, 80, 90, 100,\n",
       "                                                         110]})"
      ]
     },
     "execution_count": 113,
     "metadata": {},
     "output_type": "execute_result"
    }
   ],
   "source": [
    "rnd_srch.fit(x_train, y_train)"
   ]
  },
  {
   "cell_type": "code",
   "execution_count": 114,
   "id": "b0334811",
   "metadata": {},
   "outputs": [
    {
     "data": {
      "text/plain": [
       "AdaBoostRegressor(learning_rate=0.3, n_estimators=10)"
      ]
     },
     "execution_count": 114,
     "metadata": {},
     "output_type": "execute_result"
    }
   ],
   "source": [
    "rnd_srch.best_estimator_"
   ]
  },
  {
   "cell_type": "code",
   "execution_count": null,
   "id": "4b6545f1",
   "metadata": {},
   "outputs": [],
   "source": [
    "# Now lets train and predict after using hyperparameter  tuning (Adda Boost classifier)"
   ]
  },
  {
   "cell_type": "code",
   "execution_count": 174,
   "id": "d26b8db5",
   "metadata": {},
   "outputs": [
    {
     "data": {
      "text/plain": [
       "AdaBoostRegressor(learning_rate=0.2, n_estimators=20)"
      ]
     },
     "execution_count": 174,
     "metadata": {},
     "output_type": "execute_result"
    }
   ],
   "source": [
    "ab2 = AdaBoostRegressor(learning_rate = 0.2, n_estimators = 20)\n",
    "ab2.fit(x_train, y_train)"
   ]
  },
  {
   "cell_type": "code",
   "execution_count": 175,
   "id": "e052ca7a",
   "metadata": {},
   "outputs": [],
   "source": [
    "y_pred_ab2_train = ab2.predict(x_train)\n",
    "y_pred_ab2_test = ab2.predict(x_test)\n",
    "accuracy_ab2_train = metrics.r2_score(y_train, y_pred_ab2_train)\n",
    "accuracy_ab2_test = metrics.r2_score(y_test, y_pred_ab2_test)"
   ]
  },
  {
   "cell_type": "code",
   "execution_count": 176,
   "id": "24f6f087",
   "metadata": {},
   "outputs": [
    {
     "name": "stdout",
     "output_type": "stream",
     "text": [
      "R square score on train data 0.8353495198108161\n",
      "R square score on test data 0.8313021039572461\n",
      "R square score on train data after hyperparameter tuning 0.8476380000555618\n",
      "R square score on test data after hyperparameter tuning 0.8387689499114599\n"
     ]
    }
   ],
   "source": [
    "print('R square score on train data', accuracy_ab_train)\n",
    "print('R square score on test data', accuracy_ab_test)\n",
    "print('R square score on train data after hyperparameter tuning', accuracy_ab2_train)\n",
    "print('R square score on test data after hyperparameter tuning', accuracy_ab2_test)"
   ]
  },
  {
   "cell_type": "markdown",
   "id": "57a9093f",
   "metadata": {},
   "source": [
    "# PREDICT CHARGES FOR NEW DATA USING GRADIENT BOSSTING CLASSIFIER"
   ]
  },
  {
   "cell_type": "code",
   "execution_count": 181,
   "id": "5d652083",
   "metadata": {},
   "outputs": [],
   "source": [
    "new_data = {'age': 50, 'sex':0, 'bmi': 41.74, 'children':2, 'smoker':1, 'region':1}"
   ]
  },
  {
   "cell_type": "code",
   "execution_count": 183,
   "id": "cbbcc1d1",
   "metadata": {},
   "outputs": [],
   "source": [
    "n_df = pd.DataFrame(new_data, index = [0])"
   ]
  },
  {
   "cell_type": "code",
   "execution_count": 184,
   "id": "6ddf3d56",
   "metadata": {},
   "outputs": [
    {
     "data": {
      "text/html": [
       "<div>\n",
       "<style scoped>\n",
       "    .dataframe tbody tr th:only-of-type {\n",
       "        vertical-align: middle;\n",
       "    }\n",
       "\n",
       "    .dataframe tbody tr th {\n",
       "        vertical-align: top;\n",
       "    }\n",
       "\n",
       "    .dataframe thead th {\n",
       "        text-align: right;\n",
       "    }\n",
       "</style>\n",
       "<table border=\"1\" class=\"dataframe\">\n",
       "  <thead>\n",
       "    <tr style=\"text-align: right;\">\n",
       "      <th></th>\n",
       "      <th>age</th>\n",
       "      <th>sex</th>\n",
       "      <th>bmi</th>\n",
       "      <th>children</th>\n",
       "      <th>smoker</th>\n",
       "      <th>region</th>\n",
       "    </tr>\n",
       "  </thead>\n",
       "  <tbody>\n",
       "    <tr>\n",
       "      <th>0</th>\n",
       "      <td>50</td>\n",
       "      <td>0</td>\n",
       "      <td>41.74</td>\n",
       "      <td>2</td>\n",
       "      <td>1</td>\n",
       "      <td>1</td>\n",
       "    </tr>\n",
       "  </tbody>\n",
       "</table>\n",
       "</div>"
      ],
      "text/plain": [
       "   age  sex    bmi  children  smoker  region\n",
       "0   50    0  41.74         2       1       1"
      ]
     },
     "execution_count": 184,
     "metadata": {},
     "output_type": "execute_result"
    }
   ],
   "source": [
    "n_df"
   ]
  },
  {
   "cell_type": "code",
   "execution_count": 185,
   "id": "dfc88406",
   "metadata": {},
   "outputs": [
    {
     "name": "stdout",
     "output_type": "stream",
     "text": [
      "[43428.80374595]\n"
     ]
    }
   ],
   "source": [
    "my_prediction = gb2.predict(n_df)\n",
    "print(my_prediction)"
   ]
  },
  {
   "cell_type": "markdown",
   "id": "b178d13f",
   "metadata": {},
   "source": [
    "# SAVE OUR MODEL"
   ]
  },
  {
   "cell_type": "code",
   "execution_count": 192,
   "id": "e61a4af3",
   "metadata": {},
   "outputs": [
    {
     "data": {
      "text/plain": [
       "GradientBoostingRegressor(learning_rate=0.2, n_estimators=20)"
      ]
     },
     "execution_count": 192,
     "metadata": {},
     "output_type": "execute_result"
    }
   ],
   "source": [
    "gb2 = GradientBoostingRegressor(learning_rate = 0.20, n_estimators = 20)\n",
    "gb2.fit(x, y)"
   ]
  },
  {
   "cell_type": "code",
   "execution_count": 193,
   "id": "7d9f76f0",
   "metadata": {},
   "outputs": [],
   "source": [
    "import joblib"
   ]
  },
  {
   "cell_type": "code",
   "execution_count": 194,
   "id": "e62a8b25",
   "metadata": {},
   "outputs": [
    {
     "data": {
      "text/plain": [
       "['model_name']"
      ]
     },
     "execution_count": 194,
     "metadata": {},
     "output_type": "execute_result"
    }
   ],
   "source": [
    "joblib.dump(gb2, \"model_name\")"
   ]
  },
  {
   "cell_type": "code",
   "execution_count": 195,
   "id": "8dd78371",
   "metadata": {},
   "outputs": [],
   "source": [
    "model = joblib.load('model_name')"
   ]
  },
  {
   "cell_type": "code",
   "execution_count": 196,
   "id": "eb4b476b",
   "metadata": {},
   "outputs": [
    {
     "data": {
      "text/plain": [
       "array([44165.50751286])"
      ]
     },
     "execution_count": 196,
     "metadata": {},
     "output_type": "execute_result"
    }
   ],
   "source": [
    "model.predict(n_df)"
   ]
  },
  {
   "cell_type": "code",
   "execution_count": null,
   "id": "2d47e260",
   "metadata": {},
   "outputs": [],
   "source": []
  }
 ],
 "metadata": {
  "kernelspec": {
   "display_name": "Python 3 (ipykernel)",
   "language": "python",
   "name": "python3"
  },
  "language_info": {
   "codemirror_mode": {
    "name": "ipython",
    "version": 3
   },
   "file_extension": ".py",
   "mimetype": "text/x-python",
   "name": "python",
   "nbconvert_exporter": "python",
   "pygments_lexer": "ipython3",
   "version": "3.9.12"
  }
 },
 "nbformat": 4,
 "nbformat_minor": 5
}
